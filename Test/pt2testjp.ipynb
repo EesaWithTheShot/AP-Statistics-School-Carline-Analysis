{
 "cells": [
  {
   "attachments": {},
   "cell_type": "markdown",
   "metadata": {},
   "source": [
    "Previous Code from testjp.ipynb"
   ]
  },
  {
   "cell_type": "code",
   "execution_count": 2,
   "metadata": {},
   "outputs": [],
   "source": [
    "%matplotlib inline\n",
    "import pandas as pd\n",
    "import numpy as np\n",
    "import matplotlib.pyplot as plt\n",
    "import seaborn as sns\n",
    "import os\n",
    "from datetime import datetime\n",
    "absolute_path = os.path.abspath(\"\")\n",
    "hs1104df = pd.read_csv(absolute_path + \"\\cleanerHS1104.csv\")\n",
    "hs1104df[\"Time In\"] = pd.to_datetime(hs1104df[\"Time In\"])\n",
    "hs1104df[\"Time Out\"] = pd.to_datetime(hs1104df[\"Time Out\"])\n",
    "hs1104df[\"Time In Clean\"] = pd.to_datetime(hs1104df[\"Time In Clean\"])\n",
    "hs1104df[\"Difference\"] = hs1104df[\"Time Out\"] - hs1104df[\"Time In\"]\n",
    "\n",
    "for index, row in hs1104df.iterrows():\n",
    "    if (row[\"Difference\"].total_seconds()/60) > 300:\n",
    "        hs1104df.drop(index, inplace=True)\n"
   ]
  },
  {
   "cell_type": "code",
   "execution_count": null,
   "metadata": {},
   "outputs": [],
   "source": []
  }
 ],
 "metadata": {
  "kernelspec": {
   "display_name": "Python 3",
   "language": "python",
   "name": "python3"
  },
  "language_info": {
   "codemirror_mode": {
    "name": "ipython",
    "version": 3
   },
   "file_extension": ".py",
   "mimetype": "text/x-python",
   "name": "python",
   "nbconvert_exporter": "python",
   "pygments_lexer": "ipython3",
   "version": "3.10.2"
  },
  "orig_nbformat": 4
 },
 "nbformat": 4,
 "nbformat_minor": 2
}
